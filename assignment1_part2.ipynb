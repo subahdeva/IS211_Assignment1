{
 "cells": [
  {
   "cell_type": "code",
   "execution_count": 2,
   "metadata": {},
   "outputs": [
    {
     "name": "stdout",
     "output_type": "stream",
     "text": [
      "Of Mice And Men, written by John Steinbeck\n"
     ]
    }
   ],
   "source": [
    "class Book(object):\n",
    "    \"\"\" Book class\"\"\"\n",
    "    def __init__(self, bauthor, btitle):\n",
    "        self.author = bauthor.strip().title()\n",
    "        self.title = btitle.strip().title()\n",
    "\n",
    "    def display(self):\n",
    "        return '{}, written by {}'.format(self.title, self.author)\n",
    "\n",
    "\n",
    "if __name__ == '__main__':\n",
    "    MYBOOK = Book('John Steinbeck', 'Of Mice and Men')\n",
    "    print MYBOOK.display()"
   ]
  },
  {
   "cell_type": "code",
   "execution_count": null,
   "metadata": {},
   "outputs": [],
   "source": []
  }
 ],
 "metadata": {
  "kernelspec": {
   "display_name": "Python 2",
   "language": "python",
   "name": "python2"
  },
  "language_info": {
   "codemirror_mode": {
    "name": "ipython",
    "version": 2
   },
   "file_extension": ".py",
   "mimetype": "text/x-python",
   "name": "python",
   "nbconvert_exporter": "python",
   "pygments_lexer": "ipython2",
   "version": "2.7.15"
  }
 },
 "nbformat": 4,
 "nbformat_minor": 2
}
