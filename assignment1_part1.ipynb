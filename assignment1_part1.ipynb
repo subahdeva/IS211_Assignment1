{
 "cells": [
  {
   "cell_type": "code",
   "execution_count": 1,
   "metadata": {
    "scrolled": true
   },
   "outputs": [
    {
     "name": "stdout",
     "output_type": "stream",
     "text": [
      "None\n"
     ]
    }
   ],
   "source": [
    "def listdivide(numbers, divide=2):\n",
    "    items = [x for x in numbers if x % divide == 0]\n",
    "    return len(items)\n",
    "\n",
    "\n",
    "class ListDivideException(Exception):\n",
    "    pass\n",
    "\n",
    "\n",
    "def testlistdivide():\n",
    "    tests = [([1, 2, 3, 4, 5], 2, 2),\n",
    "             ([2, 4, 6, 8, 10], 2, 5),\n",
    "             ([30, 54, 63, 98, 100], 10, 2),\n",
    "             ([], 2, 0),\n",
    "             ([1, 2, 3, 4, 5], 1, 5)]\n",
    "\n",
    "    for items, div, res in tests:\n",
    "        comp = listdivide(items, div)\n",
    "        if comp != res:\n",
    "            raise ListDivideException()\n",
    "\n",
    "\n",
    "if __name__ == '__main__':\n",
    "    print testlistdivide()"
   ]
  },
  {
   "cell_type": "code",
   "execution_count": null,
   "metadata": {},
   "outputs": [],
   "source": []
  }
 ],
 "metadata": {
  "kernelspec": {
   "display_name": "Python 2",
   "language": "python",
   "name": "python2"
  },
  "language_info": {
   "codemirror_mode": {
    "name": "ipython",
    "version": 2
   },
   "file_extension": ".py",
   "mimetype": "text/x-python",
   "name": "python",
   "nbconvert_exporter": "python",
   "pygments_lexer": "ipython2",
   "version": "2.7.15"
  }
 },
 "nbformat": 4,
 "nbformat_minor": 2
}
